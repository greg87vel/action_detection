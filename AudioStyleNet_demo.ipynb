{
  "nbformat": 4,
  "nbformat_minor": 0,
  "metadata": {
    "colab": {
      "provenance": [],
      "include_colab_link": true
    },
    "kernelspec": {
      "name": "python3",
      "display_name": "Python 3"
    },
    "accelerator": "GPU"
  },
  "cells": [
    {
      "cell_type": "markdown",
      "metadata": {
        "id": "view-in-github",
        "colab_type": "text"
      },
      "source": [
        "<a href=\"https://colab.research.google.com/github/greg87vel/action_detection/blob/master/AudioStyleNet_demo.ipynb\" target=\"_parent\"><img src=\"https://colab.research.google.com/assets/colab-badge.svg\" alt=\"Open In Colab\"/></a>"
      ]
    },
    {
      "cell_type": "markdown",
      "metadata": {
        "id": "jKic4eRAc6a2"
      },
      "source": [
        "# AudioStyleNet"
      ]
    },
    {
      "cell_type": "markdown",
      "metadata": {
        "id": "mZQ7QS_SdARE"
      },
      "source": [
        "### 1. Install"
      ]
    },
    {
      "cell_type": "code",
      "metadata": {
        "colab": {
          "base_uri": "https://localhost:8080/"
        },
        "id": "oEP7RqW1c94o",
        "outputId": "8a9349b1-d4e5-4abc-9217-acd21223853c"
      },
      "source": [
        "# Clone GitHub repo\n",
        "!git clone https://github.com/FeliMe/AudioStyleNet.git\n",
        "# Move everything into current directory\n",
        "!mv AudioStyleNet/* .\n",
        "# Remove empty AudioStyleNet directory\n",
        "!rm -r AudioStyleNet\n",
        "# Remove sample_data (Per default in a Colab Notebook)\n",
        "!rm -r sample_data"
      ],
      "execution_count": null,
      "outputs": [
        {
          "output_type": "stream",
          "text": [
            "Cloning into 'AudioStyleNet'...\n",
            "remote: Enumerating objects: 455, done.\u001b[K\n",
            "remote: Counting objects: 100% (455/455), done.\u001b[K\n",
            "remote: Compressing objects: 100% (204/204), done.\u001b[K\n",
            "remote: Total 1636 (delta 317), reused 368 (delta 248), pack-reused 1181\u001b[K\n",
            "Receiving objects: 100% (1636/1636), 61.06 MiB | 33.15 MiB/s, done.\n",
            "Resolving deltas: 100% (1171/1171), done.\n",
            "rm: cannot remove 'sample_data': No such file or directory\n"
          ],
          "name": "stdout"
        }
      ]
    },
    {
      "cell_type": "code",
      "metadata": {
        "colab": {
          "base_uri": "https://localhost:8080/"
        },
        "id": "GeLviD51dhWq",
        "outputId": "ffdffda4-f823-4eb5-8c73-e5396884708c"
      },
      "source": [
        "!ls"
      ],
      "execution_count": null,
      "outputs": [
        {
          "output_type": "stream",
          "text": [
            "align_face.py\t\t\t     my_models\n",
            "audiostylenet.py\t\t     op\n",
            "data\t\t\t\t     projector.py\n",
            "deepspeech\t\t\t     README.md\n",
            "directions\t\t\t     requirements.txt\n",
            "environment.yml\t\t\t     run_audiostylenet.py\n",
            "evaluation.py\t\t\t     test_emotion_manipulation.py\n",
            "git_material\t\t\t     test_notebook.ipynb\n",
            "independent_emotion_direction.ipynb  train_audiostylenet.py\n",
            "latent_control.py\t\t     train_stylegan2encoder.py\n",
            "lpips\t\t\t\t     utils\n",
            "model\n"
          ],
          "name": "stdout"
        }
      ]
    },
    {
      "cell_type": "code",
      "metadata": {
        "id": "yaY2D5qwdkug"
      },
      "source": [
        "!pip install -r requirements.txt\n",
        "# Also installing ninja and face_alignment\n",
        "!pip install ninja\n",
        "!pip install face-alignment"
      ],
      "execution_count": null,
      "outputs": []
    },
    {
      "cell_type": "code",
      "source": [
        "from google.colab import drive\n",
        "drive.mount('/content/drive')"
      ],
      "metadata": {
        "id": "Brw_cY0mvS-S"
      },
      "execution_count": null,
      "outputs": []
    },
    {
      "cell_type": "markdown",
      "metadata": {
        "id": "01ah3AZzgrOW"
      },
      "source": [
        "### Download models\n",
        "\n",
        "Thanks to https://silicondales.com/tutorials/g-suite/how-to-wget-files-from-google-drive/ for the instructions on how to use wget for google drive files"
      ]
    },
    {
      "cell_type": "code",
      "metadata": {
        "colab": {
          "base_uri": "https://localhost:8080/"
        },
        "id": "2-zCgHlgewzJ",
        "outputId": "0df0537a-6c2d-4f27-fde0-520ab9f00bf1"
      },
      "source": [
        "# Download audiostylenet.pt from google drive\n",
        "!wget --no-check-certificate 'https://docs.google.com/uc?export=download&id=1sQxf6gJOfooytzLykOEEcp5e49javTkz' -O model/audiostylenet.pt"
      ],
      "execution_count": null,
      "outputs": [
        {
          "output_type": "stream",
          "text": [
            "--2020-12-22 13:30:51--  https://docs.google.com/uc?export=download&id=1sQxf6gJOfooytzLykOEEcp5e49javTkz\n",
            "Resolving docs.google.com (docs.google.com)... 74.125.197.113, 74.125.197.100, 74.125.197.138, ...\n",
            "Connecting to docs.google.com (docs.google.com)|74.125.197.113|:443... connected.\n",
            "HTTP request sent, awaiting response... 302 Moved Temporarily\n",
            "Location: https://doc-00-1s-docs.googleusercontent.com/docs/securesc/ha0ro937gcuc7l7deffksulhg5h7mbp1/vbm0nltc2pagij2mk896jm1v19td1j5c/1608643800000/04459593928566216735/*/1sQxf6gJOfooytzLykOEEcp5e49javTkz?e=download [following]\n",
            "Warning: wildcards not supported in HTTP.\n",
            "--2020-12-22 13:30:51--  https://doc-00-1s-docs.googleusercontent.com/docs/securesc/ha0ro937gcuc7l7deffksulhg5h7mbp1/vbm0nltc2pagij2mk896jm1v19td1j5c/1608643800000/04459593928566216735/*/1sQxf6gJOfooytzLykOEEcp5e49javTkz?e=download\n",
            "Resolving doc-00-1s-docs.googleusercontent.com (doc-00-1s-docs.googleusercontent.com)... 74.125.142.132, 2607:f8b0:400e:c08::84\n",
            "Connecting to doc-00-1s-docs.googleusercontent.com (doc-00-1s-docs.googleusercontent.com)|74.125.142.132|:443... connected.\n",
            "HTTP request sent, awaiting response... 200 OK\n",
            "Length: unspecified [application/octet-stream]\n",
            "Saving to: ‘model/audiostylenet.pt’\n",
            "\n",
            "model/audiostylenet     [ <=>                ]  36.28M   234MB/s    in 0.2s    \n",
            "\n",
            "2020-12-22 13:30:52 (234 MB/s) - ‘model/audiostylenet.pt’ saved [38044411]\n",
            "\n"
          ],
          "name": "stdout"
        }
      ]
    },
    {
      "cell_type": "code",
      "metadata": {
        "colab": {
          "base_uri": "https://localhost:8080/"
        },
        "id": "Ju0FHIfKfz81",
        "outputId": "eaa85b38-2a2e-43a0-bf0c-08e948776694"
      },
      "source": [
        "# Download StyleGAN2 model from google drive\n",
        "!wget --load-cookies /tmp/cookies.txt \"https://docs.google.com/uc?export=download&confirm=$(wget --quiet --save-cookies /tmp/cookies.txt --keep-session-cookies --no-check-certificate 'https://docs.google.com/uc?export=download&id=18mXNZpMo-Y2Htqb_p-B5Vu0_NMTWM2dQ' -O- | sed -rn 's/.*confirm=([0-9A-Za-z_]+).*/\\1\\n/p')&id=18mXNZpMo-Y2Htqb_p-B5Vu0_NMTWM2dQ\" -O model/stylegan2-ffhq-config-f.pt && rm -rf /tmp/cookies.txt"
      ],
      "execution_count": null,
      "outputs": [
        {
          "output_type": "stream",
          "text": [
            "--2020-12-22 13:37:24--  https://docs.google.com/uc?export=download&confirm=GhXy&id=18mXNZpMo-Y2Htqb_p-B5Vu0_NMTWM2dQ\n",
            "Resolving docs.google.com (docs.google.com)... 74.125.20.139, 74.125.20.100, 74.125.20.138, ...\n",
            "Connecting to docs.google.com (docs.google.com)|74.125.20.139|:443... connected.\n",
            "HTTP request sent, awaiting response... 302 Moved Temporarily\n",
            "Location: https://doc-04-5g-docs.googleusercontent.com/docs/securesc/pe6og2rfg8m4vh7ouiaetm8ga7oitskh/pt27sa2mo8lkclb2d30ri72kspsde6vi/1608644175000/04459593928566216735/02434496632308792868Z/18mXNZpMo-Y2Htqb_p-B5Vu0_NMTWM2dQ?e=download [following]\n",
            "--2020-12-22 13:37:24--  https://doc-04-5g-docs.googleusercontent.com/docs/securesc/pe6og2rfg8m4vh7ouiaetm8ga7oitskh/pt27sa2mo8lkclb2d30ri72kspsde6vi/1608644175000/04459593928566216735/02434496632308792868Z/18mXNZpMo-Y2Htqb_p-B5Vu0_NMTWM2dQ?e=download\n",
            "Resolving doc-04-5g-docs.googleusercontent.com (doc-04-5g-docs.googleusercontent.com)... 74.125.142.132, 2607:f8b0:400e:c08::84\n",
            "Connecting to doc-04-5g-docs.googleusercontent.com (doc-04-5g-docs.googleusercontent.com)|74.125.142.132|:443... connected.\n",
            "HTTP request sent, awaiting response... 302 Found\n",
            "Location: https://docs.google.com/nonceSigner?nonce=pcm6r5qusc6u8&continue=https://doc-04-5g-docs.googleusercontent.com/docs/securesc/pe6og2rfg8m4vh7ouiaetm8ga7oitskh/pt27sa2mo8lkclb2d30ri72kspsde6vi/1608644175000/04459593928566216735/02434496632308792868Z/18mXNZpMo-Y2Htqb_p-B5Vu0_NMTWM2dQ?e%3Ddownload&hash=n50iq1up38906ejie6mfq263bf0d6c2j [following]\n",
            "--2020-12-22 13:37:24--  https://docs.google.com/nonceSigner?nonce=pcm6r5qusc6u8&continue=https://doc-04-5g-docs.googleusercontent.com/docs/securesc/pe6og2rfg8m4vh7ouiaetm8ga7oitskh/pt27sa2mo8lkclb2d30ri72kspsde6vi/1608644175000/04459593928566216735/02434496632308792868Z/18mXNZpMo-Y2Htqb_p-B5Vu0_NMTWM2dQ?e%3Ddownload&hash=n50iq1up38906ejie6mfq263bf0d6c2j\n",
            "Connecting to docs.google.com (docs.google.com)|74.125.20.139|:443... connected.\n",
            "HTTP request sent, awaiting response... 302 Found\n",
            "Location: https://doc-04-5g-docs.googleusercontent.com/docs/securesc/pe6og2rfg8m4vh7ouiaetm8ga7oitskh/pt27sa2mo8lkclb2d30ri72kspsde6vi/1608644175000/04459593928566216735/02434496632308792868Z/18mXNZpMo-Y2Htqb_p-B5Vu0_NMTWM2dQ?e=download&nonce=pcm6r5qusc6u8&user=02434496632308792868Z&hash=k31q9booftkrgovtn76b27a2vit2s0vt [following]\n",
            "--2020-12-22 13:37:24--  https://doc-04-5g-docs.googleusercontent.com/docs/securesc/pe6og2rfg8m4vh7ouiaetm8ga7oitskh/pt27sa2mo8lkclb2d30ri72kspsde6vi/1608644175000/04459593928566216735/02434496632308792868Z/18mXNZpMo-Y2Htqb_p-B5Vu0_NMTWM2dQ?e=download&nonce=pcm6r5qusc6u8&user=02434496632308792868Z&hash=k31q9booftkrgovtn76b27a2vit2s0vt\n",
            "Connecting to doc-04-5g-docs.googleusercontent.com (doc-04-5g-docs.googleusercontent.com)|74.125.142.132|:443... connected.\n",
            "HTTP request sent, awaiting response... 200 OK\n",
            "Length: unspecified [application/octet-stream]\n",
            "Saving to: ‘model/stylegan2-ffhq-config-f.pt’\n",
            "\n",
            "model/stylegan2-ffh     [      <=>           ] 237.24M   167MB/s    in 1.4s    \n",
            "\n",
            "2020-12-22 13:37:26 (167 MB/s) - ‘model/stylegan2-ffhq-config-f.pt’ saved [248763951]\n",
            "\n"
          ],
          "name": "stdout"
        }
      ]
    },
    {
      "cell_type": "code",
      "metadata": {
        "colab": {
          "base_uri": "https://localhost:8080/"
        },
        "id": "KNGGYJYlgYpI",
        "outputId": "01128d11-1280-4d12-dfd9-2f9b7a78d7cf"
      },
      "source": [
        "# Check if models are correctly downloaded\n",
        "!du -sh model/*"
      ],
      "execution_count": null,
      "outputs": [
        {
          "output_type": "stream",
          "text": [
            "37M\tmodel/audiostylenet.pt\n",
            "4.0K\tmodel/readme.txt\n",
            "238M\tmodel/stylegan2-ffhq-config-f.pt\n"
          ],
          "name": "stdout"
        }
      ]
    },
    {
      "cell_type": "markdown",
      "metadata": {
        "id": "hdv3ez6vtj92"
      },
      "source": [
        "### Run demo"
      ]
    },
    {
      "cell_type": "code",
      "metadata": {
        "colab": {
          "base_uri": "https://localhost:8080/"
        },
        "id": "-XCTeD-3guL0",
        "outputId": "f7656857-c99d-46f5-a6be-21caa42b7e37"
      },
      "source": [
        "!python run_audiostylenet.py"
      ],
      "execution_count": null,
      "outputs": [
        {
          "output_type": "stream",
          "text": [
            "Loading audiostylenet weights from model/audiostylenet.pt\n",
            "Saving to ./output/demo01.avi\n"
          ],
          "name": "stdout"
        }
      ]
    },
    {
      "cell_type": "code",
      "metadata": {
        "id": "NfkqfGHfqd6T"
      },
      "source": [],
      "execution_count": null,
      "outputs": []
    }
  ]
}